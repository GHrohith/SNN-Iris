{
 "cells": [
  {
   "cell_type": "code",
   "execution_count": 2,
   "metadata": {},
   "outputs": [],
   "source": [
    "import pandas as pd\n",
    "import numpy as np"
   ]
  },
  {
   "cell_type": "code",
   "execution_count": 3,
   "metadata": {},
   "outputs": [],
   "source": [
    "DATA_PATH = './'"
   ]
  },
  {
   "cell_type": "code",
   "execution_count": 4,
   "metadata": {},
   "outputs": [],
   "source": [
    "df = pd.read_csv(DATA_PATH + 'data/iris.csv', index_col=0)\n",
    "iris_df = pd.read_csv(DATA_PATH + 'data/iris_encoded_mine.csv', index_col=0)"
   ]
  },
  {
   "cell_type": "code",
   "execution_count": 5,
   "metadata": {},
   "outputs": [],
   "source": [
    "iris_data = iris_df.iloc[:-1, :]\n",
    "iris_labels = iris_df.iloc[-1, :]"
   ]
  },
  {
   "cell_type": "code",
   "execution_count": 6,
   "metadata": {},
   "outputs": [
    {
     "data": {
      "text/html": [
       "<div>\n",
       "<style scoped>\n",
       "    .dataframe tbody tr th:only-of-type {\n",
       "        vertical-align: middle;\n",
       "    }\n",
       "\n",
       "    .dataframe tbody tr th {\n",
       "        vertical-align: top;\n",
       "    }\n",
       "\n",
       "    .dataframe thead th {\n",
       "        text-align: right;\n",
       "    }\n",
       "</style>\n",
       "<table border=\"1\" class=\"dataframe\">\n",
       "  <thead>\n",
       "    <tr style=\"text-align: right;\">\n",
       "      <th></th>\n",
       "      <th>SepalLengthCm</th>\n",
       "      <th>SepalWidthCm</th>\n",
       "      <th>PetalLengthCm</th>\n",
       "      <th>PetalWidthCm</th>\n",
       "      <th>Species</th>\n",
       "    </tr>\n",
       "    <tr>\n",
       "      <th>Id</th>\n",
       "      <th></th>\n",
       "      <th></th>\n",
       "      <th></th>\n",
       "      <th></th>\n",
       "      <th></th>\n",
       "    </tr>\n",
       "  </thead>\n",
       "  <tbody>\n",
       "    <tr>\n",
       "      <th>1</th>\n",
       "      <td>5.1</td>\n",
       "      <td>3.5</td>\n",
       "      <td>1.4</td>\n",
       "      <td>0.2</td>\n",
       "      <td>Iris-setosa</td>\n",
       "    </tr>\n",
       "    <tr>\n",
       "      <th>2</th>\n",
       "      <td>4.9</td>\n",
       "      <td>3.0</td>\n",
       "      <td>1.4</td>\n",
       "      <td>0.2</td>\n",
       "      <td>Iris-setosa</td>\n",
       "    </tr>\n",
       "    <tr>\n",
       "      <th>3</th>\n",
       "      <td>4.7</td>\n",
       "      <td>3.2</td>\n",
       "      <td>1.3</td>\n",
       "      <td>0.2</td>\n",
       "      <td>Iris-setosa</td>\n",
       "    </tr>\n",
       "    <tr>\n",
       "      <th>4</th>\n",
       "      <td>4.6</td>\n",
       "      <td>3.1</td>\n",
       "      <td>1.5</td>\n",
       "      <td>0.2</td>\n",
       "      <td>Iris-setosa</td>\n",
       "    </tr>\n",
       "    <tr>\n",
       "      <th>5</th>\n",
       "      <td>5.0</td>\n",
       "      <td>3.6</td>\n",
       "      <td>1.4</td>\n",
       "      <td>0.2</td>\n",
       "      <td>Iris-setosa</td>\n",
       "    </tr>\n",
       "  </tbody>\n",
       "</table>\n",
       "</div>"
      ],
      "text/plain": [
       "    SepalLengthCm  SepalWidthCm  PetalLengthCm  PetalWidthCm      Species\n",
       "Id                                                                       \n",
       "1             5.1           3.5            1.4           0.2  Iris-setosa\n",
       "2             4.9           3.0            1.4           0.2  Iris-setosa\n",
       "3             4.7           3.2            1.3           0.2  Iris-setosa\n",
       "4             4.6           3.1            1.5           0.2  Iris-setosa\n",
       "5             5.0           3.6            1.4           0.2  Iris-setosa"
      ]
     },
     "execution_count": 6,
     "metadata": {},
     "output_type": "execute_result"
    }
   ],
   "source": [
    "df.head()"
   ]
  },
  {
   "cell_type": "code",
   "execution_count": 7,
   "metadata": {},
   "outputs": [
    {
     "data": {
      "text/html": [
       "<div>\n",
       "<style scoped>\n",
       "    .dataframe tbody tr th:only-of-type {\n",
       "        vertical-align: middle;\n",
       "    }\n",
       "\n",
       "    .dataframe tbody tr th {\n",
       "        vertical-align: top;\n",
       "    }\n",
       "\n",
       "    .dataframe thead th {\n",
       "        text-align: right;\n",
       "    }\n",
       "</style>\n",
       "<table border=\"1\" class=\"dataframe\">\n",
       "  <thead>\n",
       "    <tr style=\"text-align: right;\">\n",
       "      <th></th>\n",
       "      <th>0</th>\n",
       "      <th>1</th>\n",
       "      <th>2</th>\n",
       "      <th>3</th>\n",
       "      <th>4</th>\n",
       "      <th>5</th>\n",
       "      <th>6</th>\n",
       "      <th>7</th>\n",
       "      <th>8</th>\n",
       "      <th>9</th>\n",
       "      <th>...</th>\n",
       "      <th>140</th>\n",
       "      <th>141</th>\n",
       "      <th>142</th>\n",
       "      <th>143</th>\n",
       "      <th>144</th>\n",
       "      <th>145</th>\n",
       "      <th>146</th>\n",
       "      <th>147</th>\n",
       "      <th>148</th>\n",
       "      <th>149</th>\n",
       "    </tr>\n",
       "  </thead>\n",
       "  <tbody>\n",
       "    <tr>\n",
       "      <th>0</th>\n",
       "      <td>NaN</td>\n",
       "      <td>NaN</td>\n",
       "      <td>NaN</td>\n",
       "      <td>NaN</td>\n",
       "      <td>NaN</td>\n",
       "      <td>NaN</td>\n",
       "      <td>NaN</td>\n",
       "      <td>NaN</td>\n",
       "      <td>0.393469</td>\n",
       "      <td>NaN</td>\n",
       "      <td>...</td>\n",
       "      <td>NaN</td>\n",
       "      <td>NaN</td>\n",
       "      <td>NaN</td>\n",
       "      <td>NaN</td>\n",
       "      <td>NaN</td>\n",
       "      <td>NaN</td>\n",
       "      <td>NaN</td>\n",
       "      <td>NaN</td>\n",
       "      <td>NaN</td>\n",
       "      <td>NaN</td>\n",
       "    </tr>\n",
       "    <tr>\n",
       "      <th>1</th>\n",
       "      <td>NaN</td>\n",
       "      <td>0.864665</td>\n",
       "      <td>0.0001</td>\n",
       "      <td>0.393469</td>\n",
       "      <td>NaN</td>\n",
       "      <td>NaN</td>\n",
       "      <td>0.393469</td>\n",
       "      <td>NaN</td>\n",
       "      <td>NaN</td>\n",
       "      <td>0.864665</td>\n",
       "      <td>...</td>\n",
       "      <td>NaN</td>\n",
       "      <td>NaN</td>\n",
       "      <td>NaN</td>\n",
       "      <td>NaN</td>\n",
       "      <td>NaN</td>\n",
       "      <td>NaN</td>\n",
       "      <td>NaN</td>\n",
       "      <td>NaN</td>\n",
       "      <td>NaN</td>\n",
       "      <td>NaN</td>\n",
       "    </tr>\n",
       "    <tr>\n",
       "      <th>2</th>\n",
       "      <td>0.0001</td>\n",
       "      <td>0.864665</td>\n",
       "      <td>NaN</td>\n",
       "      <td>NaN</td>\n",
       "      <td>0.393469</td>\n",
       "      <td>NaN</td>\n",
       "      <td>NaN</td>\n",
       "      <td>0.393469</td>\n",
       "      <td>NaN</td>\n",
       "      <td>0.864665</td>\n",
       "      <td>...</td>\n",
       "      <td>NaN</td>\n",
       "      <td>NaN</td>\n",
       "      <td>NaN</td>\n",
       "      <td>NaN</td>\n",
       "      <td>NaN</td>\n",
       "      <td>NaN</td>\n",
       "      <td>NaN</td>\n",
       "      <td>NaN</td>\n",
       "      <td>NaN</td>\n",
       "      <td>NaN</td>\n",
       "    </tr>\n",
       "    <tr>\n",
       "      <th>3</th>\n",
       "      <td>NaN</td>\n",
       "      <td>NaN</td>\n",
       "      <td>NaN</td>\n",
       "      <td>NaN</td>\n",
       "      <td>NaN</td>\n",
       "      <td>0.393469</td>\n",
       "      <td>NaN</td>\n",
       "      <td>NaN</td>\n",
       "      <td>NaN</td>\n",
       "      <td>NaN</td>\n",
       "      <td>...</td>\n",
       "      <td>NaN</td>\n",
       "      <td>NaN</td>\n",
       "      <td>NaN</td>\n",
       "      <td>NaN</td>\n",
       "      <td>NaN</td>\n",
       "      <td>NaN</td>\n",
       "      <td>NaN</td>\n",
       "      <td>NaN</td>\n",
       "      <td>NaN</td>\n",
       "      <td>NaN</td>\n",
       "    </tr>\n",
       "    <tr>\n",
       "      <th>4</th>\n",
       "      <td>NaN</td>\n",
       "      <td>NaN</td>\n",
       "      <td>NaN</td>\n",
       "      <td>NaN</td>\n",
       "      <td>NaN</td>\n",
       "      <td>NaN</td>\n",
       "      <td>NaN</td>\n",
       "      <td>NaN</td>\n",
       "      <td>NaN</td>\n",
       "      <td>NaN</td>\n",
       "      <td>...</td>\n",
       "      <td>NaN</td>\n",
       "      <td>NaN</td>\n",
       "      <td>0.393469</td>\n",
       "      <td>NaN</td>\n",
       "      <td>NaN</td>\n",
       "      <td>NaN</td>\n",
       "      <td>NaN</td>\n",
       "      <td>NaN</td>\n",
       "      <td>NaN</td>\n",
       "      <td>0.0001</td>\n",
       "    </tr>\n",
       "  </tbody>\n",
       "</table>\n",
       "<p>5 rows × 150 columns</p>\n",
       "</div>"
      ],
      "text/plain": [
       "        0         1       2         3         4         5         6         7  \\\n",
       "0     NaN       NaN     NaN       NaN       NaN       NaN       NaN       NaN   \n",
       "1     NaN  0.864665  0.0001  0.393469       NaN       NaN  0.393469       NaN   \n",
       "2  0.0001  0.864665     NaN       NaN  0.393469       NaN       NaN  0.393469   \n",
       "3     NaN       NaN     NaN       NaN       NaN  0.393469       NaN       NaN   \n",
       "4     NaN       NaN     NaN       NaN       NaN       NaN       NaN       NaN   \n",
       "\n",
       "          8         9  ...  140  141       142  143  144  145  146  147  148  \\\n",
       "0  0.393469       NaN  ...  NaN  NaN       NaN  NaN  NaN  NaN  NaN  NaN  NaN   \n",
       "1       NaN  0.864665  ...  NaN  NaN       NaN  NaN  NaN  NaN  NaN  NaN  NaN   \n",
       "2       NaN  0.864665  ...  NaN  NaN       NaN  NaN  NaN  NaN  NaN  NaN  NaN   \n",
       "3       NaN       NaN  ...  NaN  NaN       NaN  NaN  NaN  NaN  NaN  NaN  NaN   \n",
       "4       NaN       NaN  ...  NaN  NaN  0.393469  NaN  NaN  NaN  NaN  NaN  NaN   \n",
       "\n",
       "      149  \n",
       "0     NaN  \n",
       "1     NaN  \n",
       "2     NaN  \n",
       "3     NaN  \n",
       "4  0.0001  \n",
       "\n",
       "[5 rows x 150 columns]"
      ]
     },
     "execution_count": 7,
     "metadata": {},
     "output_type": "execute_result"
    }
   ],
   "source": [
    "iris_data.head()"
   ]
  },
  {
   "cell_type": "code",
   "execution_count": 8,
   "metadata": {},
   "outputs": [],
   "source": [
    "def model_data(ind, ind_type, lat_ne, start, end):\n",
    "    \n",
    "    train_stack = np.vstack((lat_ne[ind_type[ind, 0] + start:ind_type[ind, 0] + end],\n",
    "                            lat_ne[ind_type[ind, 1] + start:ind_type[ind, 1] + end],\n",
    "                            lat_ne[ind_type[ind, 2] + start:ind_type[ind, 2] + end]))\n",
    "    \n",
    "    train_stack = np.where(train_stack > 0, train_stack, 0)\n",
    "    \n",
    "    return train_stack      # (60, 40)"
   ]
  },
  {
   "cell_type": "code",
   "execution_count": 9,
   "metadata": {},
   "outputs": [],
   "source": [
    "def LIF_SNN(n, l, data, weight, v_spike):\n",
    "    \n",
    "    V_min = 0\n",
    "    V_spike = v_spike\n",
    "    r = 5\n",
    "    tau = 2.5\n",
    "    dt = 0.01\n",
    "    t_max = 10\n",
    "    time_stamps = t_max / dt\n",
    "    time_relax = 10\n",
    "    v = np.zeros((n, l, int(time_stamps)))\n",
    "    t_post = np.zeros((n, l))\n",
    "    t_post_ = np.zeros((n, int(l / 3)))\n",
    "    v[:, :, 0] = V_min\n",
    "    \n",
    "    for n in range(n):\n",
    "        for u in range(l):\n",
    "            t = 0\n",
    "            f0 = (np.round(data[u][np.newaxis].T, 3) * 1000).astype(int)\n",
    "            f1 = np.tile(np.arange(1000), (40, 1))\n",
    "            f2 = np.where(((f1 == f0) & (f0 > 0)), 1, 0)\n",
    "            f2 = f2 * weight[n][np.newaxis].T\n",
    "            spike_list = np.sum(f2.copy(), axis = 0)\n",
    "\n",
    "            for step in range(int(time_stamps) - 1):\n",
    "                if v[n, u, step] > V_spike:\n",
    "                    t_post[n, u] = step\n",
    "                    v[n, u, step] = 0\n",
    "                    t = time_relax / dt\n",
    "                elif t > 0:\n",
    "                    v[n, u, step] = 0\n",
    "                    t = t - 1\n",
    "\n",
    "                v[n, u, step + 1] = v[n, u, step] + dt / tau * (-v[n, u, step] + r * spike_list[step])\n",
    "        t_post_[n, :] = t_post[n, n * int(l / 3):n * int(l / 3) + int(l / 3)]\n",
    "    \n",
    "    return v, t_post_, t_post"
   ]
  },
  {
   "cell_type": "code",
   "execution_count": 10,
   "metadata": {},
   "outputs": [],
   "source": [
    "def accuracy_snn(spike_time, start, end, df, ind_type, ind):\n",
    "    \n",
    "    type_dict = {'Iris-setosa': 1, 'Iris-versicolor': 2, 'Iris-virginica': 3}\n",
    "    target_type_total = np.array(df.replace({'Species': type_dict}).iloc[:, - 1])\n",
    "    target_type = np.vstack((target_type_total[ind_type[ind, 0] + start:ind_type[ind, 0] + end],\n",
    "                            target_type_total[ind_type[ind, 1] + start:ind_type[ind, 1] + end],\n",
    "                            target_type_total[ind_type[ind, 2] + start:ind_type[ind, 2] + end])).flatten()\n",
    "    \n",
    "    spike_time_ = np.where(spike_time > 0, np.array(([1], [2], [3])), np.nan)\n",
    "    final_test = np.full([len(spike_time[0])], np.nan).astype(int)\n",
    "    for i in range(len(spike_time[0])):\n",
    "        try:\n",
    "            final_test[i] = spike_time_[:, i][spike_time[:, i] == np.min(spike_time[:, i][spike_time[:, i] > 0])][0]\n",
    "        except:\n",
    "            final_test[i] = 0\n",
    "    \n",
    "    ac = np.sum(np.where(final_test == target_type, 1, 0)) / len(target_type)\n",
    "\n",
    "    return final_test, target_type, print('accur.:', np.round(ac * 100, 2), '%')"
   ]
  },
  {
   "cell_type": "code",
   "execution_count": 11,
   "metadata": {},
   "outputs": [],
   "source": [
    "lat_ne = np.transpose(iris_data.values)       # (150, 40)\n",
    "# print(np.where(lat_ne>0, lat_ne, 0).max())\n",
    "ind_type = np.array(([0, 50, 100], [50, 100, 0], [100, 0, 50]))\n",
    "list_weight = np.zeros((3,40))\n",
    "\n",
    "for ind in range(3):\n",
    "    \n",
    "    train_stack = model_data(ind, ind_type, lat_ne, 0, 20)\n",
    "    tr_ar = np.where(np.transpose(train_stack) > 0, 2 * (1 - np.transpose(train_stack)), 0)\n",
    "    # print(tr_ar)\n",
    "    tr_ar[:, 20:] = tr_ar[:, 20:] * (-1)\n",
    "    tr_ar = pd.DataFrame(tr_ar)\n",
    "    tr_ar.iloc[:,20] = tr_ar.iloc[:,:20].sum(axis = 1) + 0.1\n",
    "    tst_ar = np.float64(np.transpose(np.array(tr_ar.iloc[:,20:])))\n",
    "    \n",
    "    for i in range(1, len(tst_ar)):\n",
    "        tst_ar[0][((np.round(tst_ar[0], 4) > 0.1) & (tst_ar[i] == 0))] += - np.float64(\n",
    "            np.sum(tst_ar[i][np.round(tst_ar[0], 4) > 0.1]) / len(tst_ar[0][((\n",
    "                np.round(tst_ar[0], 4) > 0.1) & (tst_ar[i] == 0))]))\n",
    "        tst_ar[0][np.round(tst_ar[0], 4) > 0.1] += tst_ar[i][np.round(tst_ar[0], 4) > 0.1]\n",
    "        tst_ar[0][tst_ar[0] < 0.1] = 0.1\n",
    "        \n",
    "    list_weight[ind, :] = tst_ar[0]\n",
    "\n",
    "# #randomise values of list_weight\n",
    "# list_weight = np.random.rand(3, 40) * 10\n",
    "\n",
    "# save the weights\n",
    "np.savetxt('data/weights.csv', list_weight, delimiter = ',', fmt = '%.0f')\n",
    "\n",
    "list_weight = np.loadtxt('data/weights.csv', delimiter = ',')\n"
   ]
  },
  {
   "cell_type": "code",
   "execution_count": 12,
   "metadata": {},
   "outputs": [],
   "source": [
    "train_stack = model_data(0, ind_type, lat_ne, 0, 20)"
   ]
  },
  {
   "cell_type": "code",
   "execution_count": 13,
   "metadata": {},
   "outputs": [
    {
     "name": "stdout",
     "output_type": "stream",
     "text": [
      "accur.: 93.33 %\n"
     ]
    },
    {
     "name": "stderr",
     "output_type": "stream",
     "text": [
      "/tmp/ipykernel_2306823/1096655346.py:10: RuntimeWarning: invalid value encountered in cast\n",
      "  final_test = np.full([len(spike_time[0])], np.nan).astype(int)\n"
     ]
    }
   ],
   "source": [
    "res = LIF_SNN(3, 60, train_stack, list_weight, 0.25)\n",
    "spike_time = res[2]\n",
    "accuracy_snn(spike_time, 0, 20, df, ind_type, 0)[2]"
   ]
  },
  {
   "cell_type": "code",
   "execution_count": 14,
   "metadata": {},
   "outputs": [
    {
     "data": {
      "text/plain": [
       "(150, 40)"
      ]
     },
     "execution_count": 14,
     "metadata": {},
     "output_type": "execute_result"
    }
   ],
   "source": [
    "np.transpose(iris_data.values).shape\n",
    "# iris_data.values.shape\n",
    "# ind_type = np.array(([0, 50, 100], [50, 100, 0], [100, 0, 50]))\n",
    "# list_weight = np.zeros((3,40))\n"
   ]
  },
  {
   "cell_type": "code",
   "execution_count": 15,
   "metadata": {},
   "outputs": [
    {
     "name": "stdout",
     "output_type": "stream",
     "text": [
      "accur.: 100.0 %\n"
     ]
    },
    {
     "name": "stderr",
     "output_type": "stream",
     "text": [
      "/tmp/ipykernel_2306823/1096655346.py:10: RuntimeWarning: invalid value encountered in cast\n",
      "  final_test = np.full([len(spike_time[0])], np.nan).astype(int)\n"
     ]
    },
    {
     "data": {
      "text/plain": [
       "(array([1, 1, 1, 1, 1, 1, 1, 1, 1, 1, 2, 2, 2, 2, 2, 2, 2, 2, 2, 2, 3, 3,\n",
       "        3, 3, 3, 3, 3, 3, 3, 3]),\n",
       " array([1, 1, 1, 1, 1, 1, 1, 1, 1, 1, 2, 2, 2, 2, 2, 2, 2, 2, 2, 2, 3, 3,\n",
       "        3, 3, 3, 3, 3, 3, 3, 3]),\n",
       " None)"
      ]
     },
     "execution_count": 15,
     "metadata": {},
     "output_type": "execute_result"
    }
   ],
   "source": [
    "test_stack = model_data(0, ind_type, lat_ne, 40, 50)\n",
    "# res = LIF_SNN(3, 30, test_stack, list_weight, 100)\n",
    "# v = res[0]\n",
    "res = LIF_SNN(3, 30, test_stack, list_weight, 0.25)\n",
    "spike_time = res[2]\n",
    "\n",
    "accuracy_snn(spike_time, 40, 50, df, ind_type, 0)"
   ]
  },
  {
   "cell_type": "code",
   "execution_count": null,
   "metadata": {},
   "outputs": [],
   "source": []
  }
 ],
 "metadata": {
  "kernelspec": {
   "display_name": "flask",
   "language": "python",
   "name": "python3"
  },
  "language_info": {
   "codemirror_mode": {
    "name": "ipython",
    "version": 3
   },
   "file_extension": ".py",
   "mimetype": "text/x-python",
   "name": "python",
   "nbconvert_exporter": "python",
   "pygments_lexer": "ipython3",
   "version": "3.8.10"
  }
 },
 "nbformat": 4,
 "nbformat_minor": 2
}
