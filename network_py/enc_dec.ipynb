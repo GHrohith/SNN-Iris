{
 "cells": [
  {
   "cell_type": "code",
   "execution_count": 3,
   "metadata": {},
   "outputs": [],
   "source": [
    "import pandas as pd\n",
    "import numpy as np\n",
    "import matplotlib.pyplot as plt\n",
    "from scipy.stats import norm"
   ]
  },
  {
   "cell_type": "code",
   "execution_count": 4,
   "metadata": {},
   "outputs": [],
   "source": [
    "DATA_PATH = './'"
   ]
  },
  {
   "cell_type": "code",
   "execution_count": 5,
   "metadata": {},
   "outputs": [],
   "source": [
    "df = pd.read_csv(DATA_PATH + 'data/iris.csv', index_col=0)\n"
   ]
  },
  {
   "cell_type": "code",
   "execution_count": 6,
   "metadata": {},
   "outputs": [
    {
     "data": {
      "text/html": [
       "<div>\n",
       "<style scoped>\n",
       "    .dataframe tbody tr th:only-of-type {\n",
       "        vertical-align: middle;\n",
       "    }\n",
       "\n",
       "    .dataframe tbody tr th {\n",
       "        vertical-align: top;\n",
       "    }\n",
       "\n",
       "    .dataframe thead th {\n",
       "        text-align: right;\n",
       "    }\n",
       "</style>\n",
       "<table border=\"1\" class=\"dataframe\">\n",
       "  <thead>\n",
       "    <tr style=\"text-align: right;\">\n",
       "      <th></th>\n",
       "      <th>SepalLengthCm</th>\n",
       "      <th>SepalWidthCm</th>\n",
       "      <th>PetalLengthCm</th>\n",
       "      <th>PetalWidthCm</th>\n",
       "      <th>Species</th>\n",
       "    </tr>\n",
       "    <tr>\n",
       "      <th>Id</th>\n",
       "      <th></th>\n",
       "      <th></th>\n",
       "      <th></th>\n",
       "      <th></th>\n",
       "      <th></th>\n",
       "    </tr>\n",
       "  </thead>\n",
       "  <tbody>\n",
       "    <tr>\n",
       "      <th>1</th>\n",
       "      <td>5.1</td>\n",
       "      <td>3.5</td>\n",
       "      <td>1.4</td>\n",
       "      <td>0.2</td>\n",
       "      <td>Iris-setosa</td>\n",
       "    </tr>\n",
       "    <tr>\n",
       "      <th>2</th>\n",
       "      <td>4.9</td>\n",
       "      <td>3.0</td>\n",
       "      <td>1.4</td>\n",
       "      <td>0.2</td>\n",
       "      <td>Iris-setosa</td>\n",
       "    </tr>\n",
       "    <tr>\n",
       "      <th>3</th>\n",
       "      <td>4.7</td>\n",
       "      <td>3.2</td>\n",
       "      <td>1.3</td>\n",
       "      <td>0.2</td>\n",
       "      <td>Iris-setosa</td>\n",
       "    </tr>\n",
       "    <tr>\n",
       "      <th>4</th>\n",
       "      <td>4.6</td>\n",
       "      <td>3.1</td>\n",
       "      <td>1.5</td>\n",
       "      <td>0.2</td>\n",
       "      <td>Iris-setosa</td>\n",
       "    </tr>\n",
       "    <tr>\n",
       "      <th>5</th>\n",
       "      <td>5.0</td>\n",
       "      <td>3.6</td>\n",
       "      <td>1.4</td>\n",
       "      <td>0.2</td>\n",
       "      <td>Iris-setosa</td>\n",
       "    </tr>\n",
       "  </tbody>\n",
       "</table>\n",
       "</div>"
      ],
      "text/plain": [
       "    SepalLengthCm  SepalWidthCm  PetalLengthCm  PetalWidthCm      Species\n",
       "Id                                                                       \n",
       "1             5.1           3.5            1.4           0.2  Iris-setosa\n",
       "2             4.9           3.0            1.4           0.2  Iris-setosa\n",
       "3             4.7           3.2            1.3           0.2  Iris-setosa\n",
       "4             4.6           3.1            1.5           0.2  Iris-setosa\n",
       "5             5.0           3.6            1.4           0.2  Iris-setosa"
      ]
     },
     "execution_count": 6,
     "metadata": {},
     "output_type": "execute_result"
    }
   ],
   "source": [
    "df.head()"
   ]
  },
  {
   "cell_type": "code",
   "execution_count": 7,
   "metadata": {},
   "outputs": [],
   "source": [
    "df_ = df.drop(columns=['Species']).copy()"
   ]
  },
  {
   "cell_type": "code",
   "execution_count": 109,
   "metadata": {},
   "outputs": [],
   "source": [
    "def Gaus_neuron(df, n, step, s):\n",
    "\n",
    "    neurons_list = list()\n",
    "    x_axis_list = list()\n",
    "    t = 0\n",
    "\n",
    "    for col in df.columns:\n",
    "\n",
    "        vol = df[col].values\n",
    "        min_ = np.min(vol)\n",
    "        max_ = np.max(vol)\n",
    "        x_axis = np.arange(min_, max_, step)\n",
    "        x_axis[-1] = max_\n",
    "        x_axis_list.append(np.round(x_axis, 10))\n",
    "        neurons = np.zeros((n, len(x_axis)))\n",
    "\n",
    "        for i in range(n):\n",
    "\n",
    "            loc = (max_ - min_) * (i /(n-1)) + min_\n",
    "            neurons[i] = norm.pdf(x_axis, loc, s[t])\n",
    "            neurons[i] = neurons[i] / np.max(neurons[i])\n",
    "\n",
    "        neurons_list.append(neurons)\n",
    "        t += 1\n",
    "\n",
    "    return neurons_list, x_axis_list"
   ]
  },
  {
   "cell_type": "code",
   "execution_count": 110,
   "metadata": {},
   "outputs": [],
   "source": [
    "def Lat_Spike(df, d, n):\n",
    "\n",
    "    for i in range(len(df.columns)):\n",
    "\n",
    "        k = len(df.iloc[:, i])\n",
    "        st1 = np.tile(d[1][i], (k, 1))\n",
    "        st2 = df.iloc[:, i].values.reshape(-1, 1)\n",
    "        ind = (st1 == st2)\n",
    "        exc = np.tile(d[0][i], (k, 1)).reshape(k, n, len(d[0][i][0]))[\n",
    "            np.repeat(ind, n, axis=0).reshape(k, n, len(ind[0]))].reshape(k, n)\n",
    "        lat_neuron = np.transpose(np.where(exc > 0.1, 1 - exc, np.nan))\n",
    "\n",
    "        if i == 0:\n",
    "            lat_neuron_total = lat_neuron\n",
    "        else:\n",
    "            lat_neuron_total = np.concatenate((lat_neuron_total, lat_neuron), axis = 0)\n",
    "\n",
    "    lat_neuron_total[lat_neuron_total == 0] = 0.0001\n",
    "\n",
    "    return lat_neuron_total"
   ]
  },
  {
   "cell_type": "code",
   "execution_count": 121,
   "metadata": {},
   "outputs": [],
   "source": [
    "sigm = [0.1, 0.1, 0.2, 0.1]"
   ]
  },
  {
   "cell_type": "code",
   "execution_count": null,
   "metadata": {},
   "outputs": [],
   "source": [
    "d = Gaus_neuron(df_, 10, 0.001, sigm)\n",
    "fin = Lat_Spike(df_, d, 10)"
   ]
  },
  {
   "cell_type": "code",
   "execution_count": 122,
   "metadata": {},
   "outputs": [],
   "source": [
    "label_dict = {'Iris-setosa': 1, 'Iris-versicolor': 2, 'Iris-virginica': 3}\n",
    "labels = [label_dict[i] for i in df['Species']]\n",
    "labels = np.array(labels)"
   ]
  },
  {
   "cell_type": "code",
   "execution_count": 123,
   "metadata": {},
   "outputs": [],
   "source": [
    "fin = np.concatenate((fin, labels.reshape(1,-1)), axis = 0)         # last row is the labels\n",
    "Final_df = pd.DataFrame(fin)\n",
    "Final_df\n",
    "\n",
    "Final_df.to_csv(DATA_PATH + 'data/iris_encoded.csv')"
   ]
  }
 ],
 "metadata": {
  "kernelspec": {
   "display_name": "flask",
   "language": "python",
   "name": "python3"
  },
  "language_info": {
   "codemirror_mode": {
    "name": "ipython",
    "version": 3
   },
   "file_extension": ".py",
   "mimetype": "text/x-python",
   "name": "python",
   "nbconvert_exporter": "python",
   "pygments_lexer": "ipython3",
   "version": "3.8.10"
  }
 },
 "nbformat": 4,
 "nbformat_minor": 2
}
