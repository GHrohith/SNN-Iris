{
 "cells": [
  {
   "cell_type": "code",
   "execution_count": 3,
   "metadata": {},
   "outputs": [],
   "source": [
    "import pandas as pd\n",
    "import numpy as np"
   ]
  },
  {
   "cell_type": "code",
   "execution_count": 4,
   "metadata": {},
   "outputs": [],
   "source": [
    "DATA_PATH = './'"
   ]
  },
  {
   "cell_type": "code",
   "execution_count": 5,
   "metadata": {},
   "outputs": [],
   "source": [
    "iris_df = pd.read_csv(DATA_PATH + 'data/iris_encoded.csv', index_col=0)"
   ]
  },
  {
   "cell_type": "code",
   "execution_count": 6,
   "metadata": {},
   "outputs": [],
   "source": [
    "list_weight = np.loadtxt(DATA_PATH + 'data/weights.csv', delimiter = ',')"
   ]
  },
  {
   "cell_type": "code",
   "execution_count": 7,
   "metadata": {},
   "outputs": [],
   "source": [
    "iris_data = iris_df.iloc[:-1, :]\n",
    "iris_labels = iris_df.iloc[-1, :].astype(int)"
   ]
  },
  {
   "cell_type": "code",
   "execution_count": 8,
   "metadata": {},
   "outputs": [
    {
     "data": {
      "text/html": [
       "<div>\n",
       "<style scoped>\n",
       "    .dataframe tbody tr th:only-of-type {\n",
       "        vertical-align: middle;\n",
       "    }\n",
       "\n",
       "    .dataframe tbody tr th {\n",
       "        vertical-align: top;\n",
       "    }\n",
       "\n",
       "    .dataframe thead th {\n",
       "        text-align: right;\n",
       "    }\n",
       "</style>\n",
       "<table border=\"1\" class=\"dataframe\">\n",
       "  <thead>\n",
       "    <tr style=\"text-align: right;\">\n",
       "      <th></th>\n",
       "      <th>0</th>\n",
       "      <th>1</th>\n",
       "      <th>2</th>\n",
       "      <th>3</th>\n",
       "      <th>4</th>\n",
       "      <th>5</th>\n",
       "      <th>6</th>\n",
       "      <th>7</th>\n",
       "      <th>8</th>\n",
       "      <th>9</th>\n",
       "      <th>...</th>\n",
       "      <th>140</th>\n",
       "      <th>141</th>\n",
       "      <th>142</th>\n",
       "      <th>143</th>\n",
       "      <th>144</th>\n",
       "      <th>145</th>\n",
       "      <th>146</th>\n",
       "      <th>147</th>\n",
       "      <th>148</th>\n",
       "      <th>149</th>\n",
       "    </tr>\n",
       "  </thead>\n",
       "  <tbody>\n",
       "    <tr>\n",
       "      <th>0</th>\n",
       "      <td>NaN</td>\n",
       "      <td>NaN</td>\n",
       "      <td>NaN</td>\n",
       "      <td>NaN</td>\n",
       "      <td>NaN</td>\n",
       "      <td>NaN</td>\n",
       "      <td>NaN</td>\n",
       "      <td>NaN</td>\n",
       "      <td>0.393</td>\n",
       "      <td>NaN</td>\n",
       "      <td>...</td>\n",
       "      <td>NaN</td>\n",
       "      <td>NaN</td>\n",
       "      <td>NaN</td>\n",
       "      <td>NaN</td>\n",
       "      <td>NaN</td>\n",
       "      <td>NaN</td>\n",
       "      <td>NaN</td>\n",
       "      <td>NaN</td>\n",
       "      <td>NaN</td>\n",
       "      <td>NaN</td>\n",
       "    </tr>\n",
       "    <tr>\n",
       "      <th>1</th>\n",
       "      <td>NaN</td>\n",
       "      <td>0.865</td>\n",
       "      <td>0.0</td>\n",
       "      <td>0.393</td>\n",
       "      <td>NaN</td>\n",
       "      <td>NaN</td>\n",
       "      <td>0.393</td>\n",
       "      <td>NaN</td>\n",
       "      <td>NaN</td>\n",
       "      <td>0.865</td>\n",
       "      <td>...</td>\n",
       "      <td>NaN</td>\n",
       "      <td>NaN</td>\n",
       "      <td>NaN</td>\n",
       "      <td>NaN</td>\n",
       "      <td>NaN</td>\n",
       "      <td>NaN</td>\n",
       "      <td>NaN</td>\n",
       "      <td>NaN</td>\n",
       "      <td>NaN</td>\n",
       "      <td>NaN</td>\n",
       "    </tr>\n",
       "    <tr>\n",
       "      <th>2</th>\n",
       "      <td>0.0</td>\n",
       "      <td>0.865</td>\n",
       "      <td>NaN</td>\n",
       "      <td>NaN</td>\n",
       "      <td>0.393</td>\n",
       "      <td>NaN</td>\n",
       "      <td>NaN</td>\n",
       "      <td>0.393</td>\n",
       "      <td>NaN</td>\n",
       "      <td>0.865</td>\n",
       "      <td>...</td>\n",
       "      <td>NaN</td>\n",
       "      <td>NaN</td>\n",
       "      <td>NaN</td>\n",
       "      <td>NaN</td>\n",
       "      <td>NaN</td>\n",
       "      <td>NaN</td>\n",
       "      <td>NaN</td>\n",
       "      <td>NaN</td>\n",
       "      <td>NaN</td>\n",
       "      <td>NaN</td>\n",
       "    </tr>\n",
       "    <tr>\n",
       "      <th>3</th>\n",
       "      <td>NaN</td>\n",
       "      <td>NaN</td>\n",
       "      <td>NaN</td>\n",
       "      <td>NaN</td>\n",
       "      <td>NaN</td>\n",
       "      <td>0.393</td>\n",
       "      <td>NaN</td>\n",
       "      <td>NaN</td>\n",
       "      <td>NaN</td>\n",
       "      <td>NaN</td>\n",
       "      <td>...</td>\n",
       "      <td>NaN</td>\n",
       "      <td>NaN</td>\n",
       "      <td>NaN</td>\n",
       "      <td>NaN</td>\n",
       "      <td>NaN</td>\n",
       "      <td>NaN</td>\n",
       "      <td>NaN</td>\n",
       "      <td>NaN</td>\n",
       "      <td>NaN</td>\n",
       "      <td>NaN</td>\n",
       "    </tr>\n",
       "    <tr>\n",
       "      <th>4</th>\n",
       "      <td>NaN</td>\n",
       "      <td>NaN</td>\n",
       "      <td>NaN</td>\n",
       "      <td>NaN</td>\n",
       "      <td>NaN</td>\n",
       "      <td>NaN</td>\n",
       "      <td>NaN</td>\n",
       "      <td>NaN</td>\n",
       "      <td>NaN</td>\n",
       "      <td>NaN</td>\n",
       "      <td>...</td>\n",
       "      <td>NaN</td>\n",
       "      <td>NaN</td>\n",
       "      <td>0.393</td>\n",
       "      <td>NaN</td>\n",
       "      <td>NaN</td>\n",
       "      <td>NaN</td>\n",
       "      <td>NaN</td>\n",
       "      <td>NaN</td>\n",
       "      <td>NaN</td>\n",
       "      <td>0.0</td>\n",
       "    </tr>\n",
       "  </tbody>\n",
       "</table>\n",
       "<p>5 rows × 150 columns</p>\n",
       "</div>"
      ],
      "text/plain": [
       "     0      1    2      3      4      5      6      7      8      9  ...  140  \\\n",
       "0  NaN    NaN  NaN    NaN    NaN    NaN    NaN    NaN  0.393    NaN  ...  NaN   \n",
       "1  NaN  0.865  0.0  0.393    NaN    NaN  0.393    NaN    NaN  0.865  ...  NaN   \n",
       "2  0.0  0.865  NaN    NaN  0.393    NaN    NaN  0.393    NaN  0.865  ...  NaN   \n",
       "3  NaN    NaN  NaN    NaN    NaN  0.393    NaN    NaN    NaN    NaN  ...  NaN   \n",
       "4  NaN    NaN  NaN    NaN    NaN    NaN    NaN    NaN    NaN    NaN  ...  NaN   \n",
       "\n",
       "   141    142  143  144  145  146  147  148  149  \n",
       "0  NaN    NaN  NaN  NaN  NaN  NaN  NaN  NaN  NaN  \n",
       "1  NaN    NaN  NaN  NaN  NaN  NaN  NaN  NaN  NaN  \n",
       "2  NaN    NaN  NaN  NaN  NaN  NaN  NaN  NaN  NaN  \n",
       "3  NaN    NaN  NaN  NaN  NaN  NaN  NaN  NaN  NaN  \n",
       "4  NaN  0.393  NaN  NaN  NaN  NaN  NaN  NaN  0.0  \n",
       "\n",
       "[5 rows x 150 columns]"
      ]
     },
     "execution_count": 8,
     "metadata": {},
     "output_type": "execute_result"
    }
   ],
   "source": [
    "iris_data.head()"
   ]
  },
  {
   "cell_type": "code",
   "execution_count": 9,
   "metadata": {},
   "outputs": [],
   "source": [
    "def model_data(lat_ne):\n",
    "    \n",
    "    train_stack = np.where(lat_ne >= 0, lat_ne, -1)\n",
    "    \n",
    "    return train_stack      # (150, 40)"
   ]
  },
  {
   "cell_type": "code",
   "execution_count": 10,
   "metadata": {},
   "outputs": [],
   "source": [
    "def leaky_integrate_and_fire(mem, x, w, beta, threshold=1):\n",
    "    spk = (mem > threshold) # if membrane exceeds threshold, spk=1, else, 0\n",
    "    # mem = beta * mem + w*x - spk*threshold\n",
    "    if spk:\n",
    "        mem = 0\n",
    "    else:\n",
    "        mem = beta * mem + w*x\n",
    "    # mem = beta * mem + w*x\n",
    "    return spk, mem"
   ]
  },
  {
   "cell_type": "code",
   "execution_count": 291,
   "metadata": {},
   "outputs": [],
   "source": [
    "def LIF_SNN(n, data, weight, v_spike = 0.25):\n",
    "    l = len(data)\n",
    "\n",
    "    V_min = 0\n",
    "    r = 5\n",
    "    tau = 2.5\n",
    "    dt = 0.01\n",
    "    beta = 1 - dt / tau\n",
    "    t_max = 10\n",
    "    time_stamps = t_max / dt\n",
    "    # time_relax = 10\n",
    "    v = np.zeros((n, l, int(time_stamps)))\n",
    "    t_post = np.zeros((n, l))\n",
    "    v[:, :, 0] = V_min\n",
    "    \n",
    "    # data_spike_list = np.zeros((l, n, len(data[0]), int(time_stamps)))\n",
    "    data_spike_list_sum = np.zeros((l, n, int(time_stamps)))\n",
    "\n",
    "    for u in range(l):          # data point\n",
    "        for ni in range(n):     # 3 classes\n",
    "            f0 = (np.round(data[u][np.newaxis].T, 3) * 1000).astype(int)      # (40, 1)\n",
    "            f1 = np.tile(np.arange(1000), (40, 1))                            # (40, 1)\n",
    "            f2 = np.where(((f1 == f0) & (f0 >= 0)), 1, 0)                      # (40, 1000)        1 wherever the spike is\n",
    "            f2 = f2 * weight[ni][np.newaxis].T\n",
    "            # data_spike_list[u][ni] = f2\n",
    "            data_spike_list_sum[u][ni] = np.sum(f2, axis = 0)\n",
    "\n",
    "    for u in range(l):          # data point\n",
    "        for step in range(int(time_stamps) - 1):\n",
    "            for ni in range(n):     # 3 classes\n",
    "                spike_list = data_spike_list_sum[u][ni]\n",
    "                (spk_out, mem_out) = leaky_integrate_and_fire(v[ni, u, step], r * dt/tau * spike_list[step], 1, beta, threshold=v_spike)\n",
    "\n",
    "                if spk_out:\n",
    "                    t_post[ni, u] = step\n",
    "\n",
    "                v[ni, u, step + 1] = mem_out\n",
    "\n",
    "    return v, t_post"
   ]
  },
  {
   "cell_type": "code",
   "execution_count": 83,
   "metadata": {},
   "outputs": [],
   "source": [
    "# def network_hw(data, weight, time_stamps, v_spike, beta, w, in_n, out_n):\n",
    "#     v = np.zeros(out_n)\n",
    "\n",
    "#     for step in range(int(time_stamps) - 1):\n",
    "#         for ni in range(n):     # 3 classes\n",
    "#             spike_list = data_spike_list_sum[u][ni]\n",
    "#             (spk_out, mem_out) = leaky_integrate_and_fire(v[ni, u, step], w * spike_list[step], 1, beta, threshold=v_spike)\n",
    "\n",
    "#             if spk_out:\n",
    "#                 t_post[ni, u] = step\n",
    "\n",
    "#             v[ni, u, step + 1] = mem_out"
   ]
  },
  {
   "cell_type": "code",
   "execution_count": 11,
   "metadata": {},
   "outputs": [],
   "source": [
    "def float_to_lat_step (data):\n",
    "    data = np.round(data, 3)\n",
    "    data = data * 1000\n",
    "    data = data.astype(int)\n",
    "    return data"
   ]
  },
  {
   "cell_type": "code",
   "execution_count": 55,
   "metadata": {},
   "outputs": [],
   "source": [
    "def LIF_SNN_hw(n_classes, data, weight, v_spike = 0.25):\n",
    "    dt = 0.01\n",
    "    beta = 0.996\n",
    "    t_max = 10\n",
    "    time_stamps = int(t_max / dt)\n",
    "    in_neur_n = len(data[0])\n",
    "    n_inputs = len(data)\n",
    "\n",
    "    w = 0.0234375                     # ~r*dt/tau = 2^(-6) + 2^(-7)\n",
    "\n",
    "    data = float_to_lat_step(data)\n",
    "\n",
    "    t_post = np.zeros((n_classes, n_inputs))\n",
    "\n",
    "    for i in range(n_inputs):\n",
    "        data_i = data[i]\n",
    "        out_neur_input = np.zeros((time_stamps, n_classes))\n",
    "\n",
    "        v = np.zeros(n_classes)\n",
    "\n",
    "        for t in range(int(time_stamps)):\n",
    "            in_neur_act = np.tile(t, (in_neur_n,)) == data_i\n",
    "            \n",
    "            for j in range(n_classes):\n",
    "                acc = 0\n",
    "                for k in range(in_neur_n):\n",
    "                    if in_neur_act[k]:\n",
    "                        acc += weight[j][k]\n",
    "                out_neur_input[t][j] = acc\n",
    "\n",
    "                (spk_out, mem_out) = leaky_integrate_and_fire(v[j], w * out_neur_input[t][j], 1, beta, threshold=v_spike)\n",
    "                \n",
    "                if spk_out:\n",
    "                    t_post[j][i] = t\n",
    "\n",
    "                v[j] = mem_out\n",
    "\n",
    "    return None, t_post"
   ]
  },
  {
   "cell_type": "code",
   "execution_count": 56,
   "metadata": {},
   "outputs": [],
   "source": [
    "lat_ne = np.transpose(iris_data.values)       # (150, 40)\n",
    "test_stack = model_data(lat_ne)"
   ]
  },
  {
   "cell_type": "code",
   "execution_count": 57,
   "metadata": {},
   "outputs": [],
   "source": [
    "(_,out) = LIF_SNN_hw(3, test_stack, list_weight)"
   ]
  },
  {
   "cell_type": "code",
   "execution_count": 58,
   "metadata": {},
   "outputs": [
    {
     "data": {
      "text/plain": [
       "(3, 150)"
      ]
     },
     "execution_count": 58,
     "metadata": {},
     "output_type": "execute_result"
    }
   ],
   "source": [
    "out.shape"
   ]
  },
  {
   "cell_type": "code",
   "execution_count": 59,
   "metadata": {},
   "outputs": [
    {
     "name": "stdout",
     "output_type": "stream",
     "text": [
      "accur.: 95.33 %\n"
     ]
    },
    {
     "name": "stderr",
     "output_type": "stream",
     "text": [
      "/tmp/ipykernel_105163/3758591641.py:6: RuntimeWarning: invalid value encountered in cast\n",
      "  final_test = np.full([len(spike_time[0])], np.nan).astype(int)\n"
     ]
    },
    {
     "data": {
      "text/plain": [
       "(array([1, 1, 1, 1, 1, 1, 1, 1, 1, 1, 1, 1, 1, 1, 1, 1, 1, 1, 1, 1, 1, 1,\n",
       "        1, 1, 1, 1, 1, 1, 1, 1, 1, 1, 1, 1, 1, 1, 1, 1, 1, 1, 1, 1, 1, 1,\n",
       "        1, 1, 1, 1, 1, 1, 2, 2, 2, 2, 2, 2, 2, 2, 2, 2, 2, 2, 2, 2, 2, 2,\n",
       "        2, 2, 2, 2, 3, 2, 3, 2, 2, 2, 2, 3, 2, 2, 2, 2, 2, 2, 2, 2, 2, 2,\n",
       "        2, 2, 2, 2, 2, 2, 2, 2, 2, 2, 2, 2, 3, 3, 3, 3, 2, 3, 3, 3, 3, 0,\n",
       "        3, 3, 3, 3, 3, 3, 3, 3, 3, 2, 3, 3, 3, 3, 3, 3, 3, 3, 3, 3, 3, 3,\n",
       "        3, 2, 3, 3, 3, 3, 3, 3, 3, 3, 3, 3, 3, 3, 3, 3, 3, 3]),\n",
       " array([1, 1, 1, 1, 1, 1, 1, 1, 1, 1, 1, 1, 1, 1, 1, 1, 1, 1, 1, 1, 1, 1,\n",
       "        1, 1, 1, 1, 1, 1, 1, 1, 1, 1, 1, 1, 1, 1, 1, 1, 1, 1, 1, 1, 1, 1,\n",
       "        1, 1, 1, 1, 1, 1, 2, 2, 2, 2, 2, 2, 2, 2, 2, 2, 2, 2, 2, 2, 2, 2,\n",
       "        2, 2, 2, 2, 2, 2, 2, 2, 2, 2, 2, 2, 2, 2, 2, 2, 2, 2, 2, 2, 2, 2,\n",
       "        2, 2, 2, 2, 2, 2, 2, 2, 2, 2, 2, 2, 3, 3, 3, 3, 3, 3, 3, 3, 3, 3,\n",
       "        3, 3, 3, 3, 3, 3, 3, 3, 3, 3, 3, 3, 3, 3, 3, 3, 3, 3, 3, 3, 3, 3,\n",
       "        3, 3, 3, 3, 3, 3, 3, 3, 3, 3, 3, 3, 3, 3, 3, 3, 3, 3]))"
      ]
     },
     "execution_count": 59,
     "metadata": {},
     "output_type": "execute_result"
    }
   ],
   "source": [
    "accuracy_snn(out, iris_labels.values)"
   ]
  },
  {
   "cell_type": "code",
   "execution_count": 19,
   "metadata": {},
   "outputs": [],
   "source": [
    "def accuracy_snn(spike_time, iris_labels):\n",
    "    \n",
    "    target_type = iris_labels\n",
    "    \n",
    "    spike_time_ = np.where(spike_time > 0, np.array(([1], [2], [3])), np.nan)\n",
    "    final_test = np.full([len(spike_time[0])], np.nan).astype(int)\n",
    "    for i in range(len(spike_time[0])):\n",
    "        try:\n",
    "            final_test[i] = spike_time_[:, i][spike_time[:, i] == np.min(spike_time[:, i][spike_time[:, i] > 0])][0]\n",
    "        except:\n",
    "            final_test[i] = 0\n",
    "    \n",
    "    ac = np.sum(np.where(final_test == target_type, 1, 0)) / len(target_type)\n",
    "\n",
    "    print('accur.:', np.round(ac * 100, 2), '%')\n",
    "\n",
    "    return final_test, target_type"
   ]
  },
  {
   "cell_type": "code",
   "execution_count": 86,
   "metadata": {},
   "outputs": [],
   "source": [
    "lat_ne = np.transpose(iris_data.values)       # (150, 40)"
   ]
  },
  {
   "cell_type": "code",
   "execution_count": 292,
   "metadata": {},
   "outputs": [
    {
     "name": "stdout",
     "output_type": "stream",
     "text": [
      "accur.: 94.67 %\n"
     ]
    },
    {
     "name": "stderr",
     "output_type": "stream",
     "text": [
      "/tmp/ipykernel_2698395/3758591641.py:6: RuntimeWarning: invalid value encountered in cast\n",
      "  final_test = np.full([len(spike_time[0])], np.nan).astype(int)\n"
     ]
    },
    {
     "data": {
      "text/plain": [
       "(array([1, 1, 1, 1, 1, 1, 1, 1, 1, 1, 1, 1, 1, 1, 1, 1, 1, 1, 1, 1, 1, 1,\n",
       "        1, 1, 1, 1, 1, 1, 1, 1, 1, 1, 1, 1, 1, 1, 1, 1, 1, 1, 1, 1, 1, 1,\n",
       "        1, 1, 1, 1, 1, 1, 2, 2, 2, 2, 2, 2, 2, 2, 2, 2, 2, 2, 2, 2, 2, 2,\n",
       "        2, 2, 2, 2, 3, 2, 3, 2, 2, 2, 2, 0, 2, 2, 2, 2, 2, 2, 2, 2, 2, 2,\n",
       "        2, 2, 2, 2, 2, 2, 2, 2, 2, 2, 2, 2, 3, 3, 3, 3, 2, 3, 3, 3, 3, 0,\n",
       "        3, 3, 3, 3, 3, 3, 3, 3, 3, 2, 3, 3, 3, 3, 3, 3, 3, 3, 3, 3, 3, 3,\n",
       "        3, 2, 2, 3, 3, 3, 3, 3, 3, 3, 3, 3, 3, 3, 3, 3, 3, 3]),\n",
       " array([1, 1, 1, 1, 1, 1, 1, 1, 1, 1, 1, 1, 1, 1, 1, 1, 1, 1, 1, 1, 1, 1,\n",
       "        1, 1, 1, 1, 1, 1, 1, 1, 1, 1, 1, 1, 1, 1, 1, 1, 1, 1, 1, 1, 1, 1,\n",
       "        1, 1, 1, 1, 1, 1, 2, 2, 2, 2, 2, 2, 2, 2, 2, 2, 2, 2, 2, 2, 2, 2,\n",
       "        2, 2, 2, 2, 2, 2, 2, 2, 2, 2, 2, 2, 2, 2, 2, 2, 2, 2, 2, 2, 2, 2,\n",
       "        2, 2, 2, 2, 2, 2, 2, 2, 2, 2, 2, 2, 3, 3, 3, 3, 3, 3, 3, 3, 3, 3,\n",
       "        3, 3, 3, 3, 3, 3, 3, 3, 3, 3, 3, 3, 3, 3, 3, 3, 3, 3, 3, 3, 3, 3,\n",
       "        3, 3, 3, 3, 3, 3, 3, 3, 3, 3, 3, 3, 3, 3, 3, 3, 3, 3]))"
      ]
     },
     "execution_count": 292,
     "metadata": {},
     "output_type": "execute_result"
    }
   ],
   "source": [
    "test_stack = model_data(lat_ne)\n",
    "\n",
    "res = LIF_SNN(3, test_stack, list_weight)\n",
    "spike_time = res[1]\n",
    "\n",
    "accuracy_snn(spike_time, iris_labels.values)"
   ]
  },
  {
   "cell_type": "code",
   "execution_count": 88,
   "metadata": {},
   "outputs": [
    {
     "data": {
      "text/plain": [
       "array([-1.   , -1.   ,  0.   , -1.   , -1.   , -1.   , -1.   , -1.   ,\n",
       "       -1.   , -1.   , -1.   , -1.   , -1.   , -1.   , -1.   ,  0.751,\n",
       "        0.393, -1.   , -1.   , -1.   , -1.   , -1.   , -1.   , -1.   ,\n",
       "       -1.   , -1.   , -1.   , -1.   , -1.   , -1.   ,  0.393,  0.751,\n",
       "       -1.   , -1.   , -1.   , -1.   , -1.   , -1.   , -1.   , -1.   ])"
      ]
     },
     "execution_count": 88,
     "metadata": {},
     "output_type": "execute_result"
    }
   ],
   "source": [
    "test_stack[0]"
   ]
  },
  {
   "cell_type": "code",
   "execution_count": null,
   "metadata": {},
   "outputs": [],
   "source": []
  }
 ],
 "metadata": {
  "kernelspec": {
   "display_name": "flask",
   "language": "python",
   "name": "python3"
  },
  "language_info": {
   "codemirror_mode": {
    "name": "ipython",
    "version": 3
   },
   "file_extension": ".py",
   "mimetype": "text/x-python",
   "name": "python",
   "nbconvert_exporter": "python",
   "pygments_lexer": "ipython3",
   "version": "3.8.10"
  }
 },
 "nbformat": 4,
 "nbformat_minor": 2
}
